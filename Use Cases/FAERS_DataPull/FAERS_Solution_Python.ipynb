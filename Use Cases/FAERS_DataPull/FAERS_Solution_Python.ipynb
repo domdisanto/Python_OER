{
 "cells": [
  {
   "cell_type": "markdown",
   "metadata": {},
   "source": [
    "## FAERS Data Aggregation Use Case \n",
    "## Proposed Walkthrough/\"Solution\"\n",
    "#### Written: 12/23/2020\n",
    "#### Updated: 12/23/2020\n",
    "\n",
    "### Introduction\n",
    "The below document includes code and descriptive text evaluating the use case assessment focused on reading, aggregating, and exporing the FDA's adverse events reports (FAERS) data set. Full materials for this use case can be found on the [Python OER GitHub Repository](https://github.com/domdisanto/Python_OER/tree/master/Use%20Cases/Rahim_FAERS). This walkthrough document is tentatively titled a \"solution\" as, while this document offers a specific way of cleaning and analyzing the available, this document certainly does not offer a unique (or even a uniquely-best) solution to the given assessment. \n",
    "\n",
    "The writing in this document will do its best to outline specific parameters that should be met to satisfactorically complete the assessment. These parameters, tasks, outputs, etc. exist solely to assess your developing skills as an analyst and Python programmer. That being said, if you take different steps or follow a different analytic method to reach the same results, that is perfectly acceptable! This walk through is intended only to be *a* demonstrated workflow, but it is possible (and even likely) that you may write more efficient, simpler, or more scalable code than what is included here that achieves the same results! "
   ]
  },
  {
   "cell_type": "markdown",
   "metadata": {},
   "source": [
    "### \"Benchmarks\" of a \"Good\" Solution\n",
    "The "
   ]
  },
  {
   "cell_type": "markdown",
   "metadata": {},
   "source": [
    "### (0) Importing modules"
   ]
  },
  {
   "cell_type": "code",
   "execution_count": 1,
   "metadata": {},
   "outputs": [],
   "source": [
    "import pandas as pd \n",
    "import numpy as np\n",
    "import requests, zipfile, io"
   ]
  },
  {
   "cell_type": "markdown",
   "metadata": {},
   "source": [
    "### (1) Accessing Faers Data\n",
    "\n",
    "Before delving into the programmatic solution, we will outline the brief process to access the FAERS data and specifically the drug-related information of interest. The FAERS Data is located on the FDA’s website at https://www.fda.gov/drugs/questions-and-answers-fdas-adverse-event-reporting-system-faers/fda-adverse-event-reporting-system-faers-latest-quarterly-data-files:\n",
    "\n",
    "![Fig1](R/Images/Fig1_FAERSHeader.JPG)\n",
    "\n",
    "This page contains the following link:\n",
    "\n",
    "![Fig2](R/Images/Fig2_DataAccessButton.JPG)\n",
    "\n",
    "which contains quarterly FAERS data more specifically at https://www.fda.gov/drugs/questions-and-answers-fdas-adverse-event-reporting-system-faers/fda-adverse-event-reporting-system-faers-latest-quarterly-data-files. On this page, the data can be accessed by the calendar year in the interface toward the bottom of the page:\n",
    "\n",
    "![Fig4](R/Images/Fig4_DataAnnuals.JPG)\n",
    "\n",
    "Here you can download the data in ASCII (that is text-delimited files) or XML files. The ASCII files are used in the solution below, and are likely the easier data format to use rather than the XML files. I would encourage you to download at least one of the date ranges of data and examine the unzipped files. The folder will a PDF ReadMe document that details the files contained.\n",
    "\n",
    "In the unzipped folder will also be the data contained in .txt files. Data in .txt files seems odd right? These are just small text files that would contain written notes from our Notepad app, right? These text files actually contain text delimited data. For example, .csv files are actually text-delimited files, where different values in a row are separated by commas. Try opening a .csv file on your laptop in Notepad and examine the data. You’ll notice data that would open in Excel as:\n",
    "\n",
    "TABLE \n",
    "\n",
    "would be represented in its text format as:\n",
    "\n",
    "> Column_1,Column_2,Column_3,…,Column_N    \n",
    "> Value_11,Value12,Value_13,…,Value_1N  \n",
    "> Value_21,Value22,Value_23,…,Value_2N  \n",
    "\n",
    "Try opening one of the smaller (in file-size) .txt files from the FAERS data in Notepad or a similar text editor. We see this file is not delimited by commas but dollar-signs (“$”). The next section will work with importing the .txt files from the ASCII folder’s unzipped files and show you how to work with this new delimiter. Specifically, this only requires the DRUGS file as noted below."
   ]
  },
  {
   "cell_type": "markdown",
   "metadata": {},
   "source": [
    "### (2) Importing 2020 Q3 Data\n",
    "\n",
    "The prompt asks us to aggregate the phenytoin events over the 2019 fiscal year (which we’ll call FY2019 for brevity). The definition of the fiscal year is the first fold in this work! In the federal government, the fiscal year most commonly ends on 9/30 (so FY2019 ranges from 10/1/2018 to 9/30/2019). If you’ve worked in different state agencies, private companies, or other organizations with various definitions of fiscal year end. The import thing for this assignment is to use a justifiale definition of fiscal year based on your previous experience, knowledge, or a quick Google search to find.\n",
    "\n",
    "We’ll begin with a “manually” importing and exploring of the data for Q3 2020, specifically looking at the text file (.txt) of drug events. We can import the data file in two ways. The first involves simply importing the data from wherever we have locally saved the data:"
   ]
  },
  {
   "cell_type": "code",
   "execution_count": 2,
   "metadata": {},
   "outputs": [
    {
     "name": "stderr",
     "output_type": "stream",
     "text": [
      "C:\\Users\\Dominic DiSanto\\Anaconda3\\lib\\site-packages\\IPython\\core\\interactiveshell.py:3058: DtypeWarning: Columns (14,16) have mixed types. Specify dtype option on import or set low_memory=False.\n",
      "  interactivity=interactivity, compiler=compiler, result=result)\n"
     ]
    },
    {
     "data": {
      "text/html": [
       "<div>\n",
       "<style scoped>\n",
       "    .dataframe tbody tr th:only-of-type {\n",
       "        vertical-align: middle;\n",
       "    }\n",
       "\n",
       "    .dataframe tbody tr th {\n",
       "        vertical-align: top;\n",
       "    }\n",
       "\n",
       "    .dataframe thead th {\n",
       "        text-align: right;\n",
       "    }\n",
       "</style>\n",
       "<table border=\"1\" class=\"dataframe\">\n",
       "  <thead>\n",
       "    <tr style=\"text-align: right;\">\n",
       "      <th></th>\n",
       "      <th>primaryid</th>\n",
       "      <th>caseid</th>\n",
       "      <th>drug_seq</th>\n",
       "      <th>role_cod</th>\n",
       "      <th>drugname</th>\n",
       "      <th>prod_ai</th>\n",
       "      <th>val_vbm</th>\n",
       "      <th>route</th>\n",
       "      <th>dose_vbm</th>\n",
       "      <th>cum_dose_chr</th>\n",
       "      <th>cum_dose_unit</th>\n",
       "      <th>dechal</th>\n",
       "      <th>rechal</th>\n",
       "      <th>lot_num</th>\n",
       "      <th>exp_dt</th>\n",
       "      <th>nda_num</th>\n",
       "      <th>dose_amt</th>\n",
       "      <th>dose_unit</th>\n",
       "      <th>dose_form</th>\n",
       "      <th>dose_freq</th>\n",
       "    </tr>\n",
       "  </thead>\n",
       "  <tbody>\n",
       "    <tr>\n",
       "      <td>0</td>\n",
       "      <td>100046943</td>\n",
       "      <td>10004694</td>\n",
       "      <td>1</td>\n",
       "      <td>PS</td>\n",
       "      <td>LIPITOR</td>\n",
       "      <td>ATORVASTATIN CALCIUM</td>\n",
       "      <td>1</td>\n",
       "      <td>Oral</td>\n",
       "      <td>20 MG, DAILY</td>\n",
       "      <td>NaN</td>\n",
       "      <td>NaN</td>\n",
       "      <td>U</td>\n",
       "      <td>NaN</td>\n",
       "      <td>NaN</td>\n",
       "      <td>NaN</td>\n",
       "      <td>20702.0</td>\n",
       "      <td>20</td>\n",
       "      <td>MG</td>\n",
       "      <td>FILM-COATED TABLET</td>\n",
       "      <td>NaN</td>\n",
       "    </tr>\n",
       "    <tr>\n",
       "      <td>1</td>\n",
       "      <td>100046943</td>\n",
       "      <td>10004694</td>\n",
       "      <td>2</td>\n",
       "      <td>SS</td>\n",
       "      <td>LIPITOR</td>\n",
       "      <td>ATORVASTATIN CALCIUM</td>\n",
       "      <td>1</td>\n",
       "      <td>Oral</td>\n",
       "      <td>20 MG, DAILY</td>\n",
       "      <td>NaN</td>\n",
       "      <td>NaN</td>\n",
       "      <td>U</td>\n",
       "      <td>NaN</td>\n",
       "      <td>NaN</td>\n",
       "      <td>NaN</td>\n",
       "      <td>20702.0</td>\n",
       "      <td>20</td>\n",
       "      <td>MG</td>\n",
       "      <td>FILM-COATED TABLET</td>\n",
       "      <td>NaN</td>\n",
       "    </tr>\n",
       "    <tr>\n",
       "      <td>2</td>\n",
       "      <td>100046943</td>\n",
       "      <td>10004694</td>\n",
       "      <td>3</td>\n",
       "      <td>SS</td>\n",
       "      <td>ATORVASTATIN CALCIUM.</td>\n",
       "      <td>ATORVASTATIN CALCIUM</td>\n",
       "      <td>1</td>\n",
       "      <td>Oral</td>\n",
       "      <td>20 MG, DAILY</td>\n",
       "      <td>NaN</td>\n",
       "      <td>NaN</td>\n",
       "      <td>U</td>\n",
       "      <td>NaN</td>\n",
       "      <td>NaN</td>\n",
       "      <td>NaN</td>\n",
       "      <td>20702.0</td>\n",
       "      <td>20</td>\n",
       "      <td>MG</td>\n",
       "      <td>FILM-COATED TABLET</td>\n",
       "      <td>NaN</td>\n",
       "    </tr>\n",
       "    <tr>\n",
       "      <td>3</td>\n",
       "      <td>100046943</td>\n",
       "      <td>10004694</td>\n",
       "      <td>4</td>\n",
       "      <td>SS</td>\n",
       "      <td>ATORVASTATIN CALCIUM.</td>\n",
       "      <td>ATORVASTATIN CALCIUM</td>\n",
       "      <td>1</td>\n",
       "      <td>Oral</td>\n",
       "      <td>20 MG, DAILY</td>\n",
       "      <td>NaN</td>\n",
       "      <td>NaN</td>\n",
       "      <td>U</td>\n",
       "      <td>NaN</td>\n",
       "      <td>NaN</td>\n",
       "      <td>NaN</td>\n",
       "      <td>20702.0</td>\n",
       "      <td>20</td>\n",
       "      <td>MG</td>\n",
       "      <td>FILM-COATED TABLET</td>\n",
       "      <td>NaN</td>\n",
       "    </tr>\n",
       "    <tr>\n",
       "      <td>4</td>\n",
       "      <td>100046943</td>\n",
       "      <td>10004694</td>\n",
       "      <td>5</td>\n",
       "      <td>C</td>\n",
       "      <td>SIMVASTATIN.</td>\n",
       "      <td>SIMVASTATIN</td>\n",
       "      <td>1</td>\n",
       "      <td>NaN</td>\n",
       "      <td>40 MG, DAILY</td>\n",
       "      <td>NaN</td>\n",
       "      <td>NaN</td>\n",
       "      <td>NaN</td>\n",
       "      <td>NaN</td>\n",
       "      <td>NaN</td>\n",
       "      <td>NaN</td>\n",
       "      <td>NaN</td>\n",
       "      <td>40</td>\n",
       "      <td>MG</td>\n",
       "      <td>NaN</td>\n",
       "      <td>NaN</td>\n",
       "    </tr>\n",
       "  </tbody>\n",
       "</table>\n",
       "</div>"
      ],
      "text/plain": [
       "   primaryid    caseid  drug_seq role_cod               drugname  \\\n",
       "0  100046943  10004694         1       PS                LIPITOR   \n",
       "1  100046943  10004694         2       SS                LIPITOR   \n",
       "2  100046943  10004694         3       SS  ATORVASTATIN CALCIUM.   \n",
       "3  100046943  10004694         4       SS  ATORVASTATIN CALCIUM.   \n",
       "4  100046943  10004694         5        C           SIMVASTATIN.   \n",
       "\n",
       "                prod_ai  val_vbm route      dose_vbm  cum_dose_chr  \\\n",
       "0  ATORVASTATIN CALCIUM        1  Oral  20 MG, DAILY           NaN   \n",
       "1  ATORVASTATIN CALCIUM        1  Oral  20 MG, DAILY           NaN   \n",
       "2  ATORVASTATIN CALCIUM        1  Oral  20 MG, DAILY           NaN   \n",
       "3  ATORVASTATIN CALCIUM        1  Oral  20 MG, DAILY           NaN   \n",
       "4           SIMVASTATIN        1   NaN  40 MG, DAILY           NaN   \n",
       "\n",
       "  cum_dose_unit dechal rechal lot_num exp_dt  nda_num dose_amt dose_unit  \\\n",
       "0           NaN      U    NaN     NaN    NaN  20702.0       20        MG   \n",
       "1           NaN      U    NaN     NaN    NaN  20702.0       20        MG   \n",
       "2           NaN      U    NaN     NaN    NaN  20702.0       20        MG   \n",
       "3           NaN      U    NaN     NaN    NaN  20702.0       20        MG   \n",
       "4           NaN    NaN    NaN     NaN    NaN      NaN       40        MG   \n",
       "\n",
       "            dose_form dose_freq  \n",
       "0  FILM-COATED TABLET       NaN  \n",
       "1  FILM-COATED TABLET       NaN  \n",
       "2  FILM-COATED TABLET       NaN  \n",
       "3  FILM-COATED TABLET       NaN  \n",
       "4                 NaN       NaN  "
      ]
     },
     "execution_count": 2,
     "metadata": {},
     "output_type": "execute_result"
    }
   ],
   "source": [
    "filepath = \"C:/Users/Dominic DiSanto/Documents/Python_OER/Use Cases/FAERS_DataPull/ASCII/DRUG20Q3.txt\" \n",
    "manual_q32020_df = pd.read_table(filepath, sep = \"$\")\n",
    "\n",
    "manual_q32020_df.head()"
   ]
  },
  {
   "cell_type": "markdown",
   "metadata": {},
   "source": [
    "Downloading and manually importing this data is certainly an appropriate solution for this assessment! However we also know downloading all of these files is a bit tedious. Similarly, if we want to share this code with a new user, each import of the data is going to include the path in our local machine. \n",
    "\n",
    "Since this data is publicly hosted, we can simply use the FDA’s hosted zip file to call the data using a stable URL! Below, we import the same Q32020 data using the `requests`, `zipfile`, `io` modules:"
   ]
  },
  {
   "cell_type": "code",
   "execution_count": 3,
   "metadata": {},
   "outputs": [],
   "source": [
    "# import requests, zipfile, io # Recalling we had to import these modules\n",
    "\n",
    "# Supplying the filepath\n",
    "url = \"https://fis.fda.gov/content/Exports/faers_ascii_2020Q3.zip\"\n",
    "\n",
    "# Pulling the zipped folder from the URL \n",
    "q320_zip = requests.get(url)\n",
    "q320_unzipped = zipfile.ZipFile(io.BytesIO(q320_zip.content))"
   ]
  },
  {
   "cell_type": "markdown",
   "metadata": {},
   "source": [
    "Now we can look at the contents of this zipped file:"
   ]
  },
  {
   "cell_type": "markdown",
   "metadata": {},
   "source": [
    "We know we are interestd in the file containing the drug name for the adverse events, and we are specifically interested in the .txt files. We can manually call this file:"
   ]
  },
  {
   "cell_type": "code",
   "execution_count": 4,
   "metadata": {},
   "outputs": [
    {
     "data": {
      "text/plain": [
       "['ASCII/',\n",
       " 'ASCII/ASC_NTS.pdf',\n",
       " 'ASCII/demo20q3.pdf',\n",
       " 'ASCII/DEMO20Q3.txt',\n",
       " 'ASCII/drug20q3.pdf',\n",
       " 'ASCII/DRUG20Q3.txt',\n",
       " 'ASCII/indi20q3.pdf',\n",
       " 'ASCII/INDI20Q3.txt',\n",
       " 'ASCII/outc20q3.pdf',\n",
       " 'ASCII/OUTC20Q3.txt',\n",
       " 'ASCII/reac20q3.pdf',\n",
       " 'ASCII/REAC20Q3.txt',\n",
       " 'ASCII/rpsr20q3.pdf',\n",
       " 'ASCII/RPSR20Q3.txt',\n",
       " 'ASCII/ther20q3.pdf',\n",
       " 'ASCII/THER20Q3.txt',\n",
       " 'Deleted/',\n",
       " 'Deleted/ADR20Q3DeletedCases.txt',\n",
       " 'FAQs.pdf',\n",
       " 'Readme.pdf']"
      ]
     },
     "execution_count": 4,
     "metadata": {},
     "output_type": "execute_result"
    }
   ],
   "source": [
    "file_dir = q320_unzipped.namelist()\n",
    "file_dir"
   ]
  },
  {
   "cell_type": "code",
   "execution_count": 5,
   "metadata": {},
   "outputs": [
    {
     "data": {
      "text/plain": [
       "'ASCII/drug20q3.pdf'"
      ]
     },
     "execution_count": 5,
     "metadata": {},
     "output_type": "execute_result"
    }
   ],
   "source": [
    "file_dir[4]"
   ]
  },
  {
   "cell_type": "markdown",
   "metadata": {},
   "source": [
    "Or we could search through the different files in our object that contains the unzipped contents and isolate those file names with 'DRUG' and 'txt' in the name, as we know this will identify the `.txt` file of interest."
   ]
  },
  {
   "cell_type": "code",
   "execution_count": 6,
   "metadata": {},
   "outputs": [
    {
     "name": "stdout",
     "output_type": "stream",
     "text": [
      "ASCII/DRUG20Q3.txt\n"
     ]
    }
   ],
   "source": [
    "import re \n",
    "for i in file_dir:\n",
    "    if 'DRUG' in i and 'txt' in i:\n",
    "        drug_file = i\n",
    "        print(i)"
   ]
  },
  {
   "cell_type": "markdown",
   "metadata": {},
   "source": [
    "So let’s supply the file-name of interest to our read.delim() function, and explore the imported dataset.\n",
    "\n"
   ]
  },
  {
   "cell_type": "code",
   "execution_count": 7,
   "metadata": {},
   "outputs": [
    {
     "data": {
      "text/html": [
       "<div>\n",
       "<style scoped>\n",
       "    .dataframe tbody tr th:only-of-type {\n",
       "        vertical-align: middle;\n",
       "    }\n",
       "\n",
       "    .dataframe tbody tr th {\n",
       "        vertical-align: top;\n",
       "    }\n",
       "\n",
       "    .dataframe thead th {\n",
       "        text-align: right;\n",
       "    }\n",
       "</style>\n",
       "<table border=\"1\" class=\"dataframe\">\n",
       "  <thead>\n",
       "    <tr style=\"text-align: right;\">\n",
       "      <th></th>\n",
       "      <th>primaryid</th>\n",
       "      <th>caseid</th>\n",
       "      <th>drug_seq</th>\n",
       "      <th>role_cod</th>\n",
       "      <th>drugname</th>\n",
       "      <th>prod_ai</th>\n",
       "      <th>val_vbm</th>\n",
       "      <th>route</th>\n",
       "      <th>dose_vbm</th>\n",
       "      <th>cum_dose_chr</th>\n",
       "      <th>cum_dose_unit</th>\n",
       "      <th>dechal</th>\n",
       "      <th>rechal</th>\n",
       "      <th>lot_num</th>\n",
       "      <th>exp_dt</th>\n",
       "      <th>nda_num</th>\n",
       "      <th>dose_amt</th>\n",
       "      <th>dose_unit</th>\n",
       "      <th>dose_form</th>\n",
       "      <th>dose_freq</th>\n",
       "    </tr>\n",
       "  </thead>\n",
       "  <tbody>\n",
       "    <tr>\n",
       "      <td>0</td>\n",
       "      <td>100046943</td>\n",
       "      <td>10004694</td>\n",
       "      <td>1</td>\n",
       "      <td>PS</td>\n",
       "      <td>LIPITOR</td>\n",
       "      <td>ATORVASTATIN CALCIUM</td>\n",
       "      <td>1</td>\n",
       "      <td>Oral</td>\n",
       "      <td>20 MG, DAILY</td>\n",
       "      <td>NaN</td>\n",
       "      <td>NaN</td>\n",
       "      <td>U</td>\n",
       "      <td>NaN</td>\n",
       "      <td>NaN</td>\n",
       "      <td>NaN</td>\n",
       "      <td>20702.0</td>\n",
       "      <td>20</td>\n",
       "      <td>MG</td>\n",
       "      <td>FILM-COATED TABLET</td>\n",
       "      <td>NaN</td>\n",
       "    </tr>\n",
       "    <tr>\n",
       "      <td>1</td>\n",
       "      <td>100046943</td>\n",
       "      <td>10004694</td>\n",
       "      <td>2</td>\n",
       "      <td>SS</td>\n",
       "      <td>LIPITOR</td>\n",
       "      <td>ATORVASTATIN CALCIUM</td>\n",
       "      <td>1</td>\n",
       "      <td>Oral</td>\n",
       "      <td>20 MG, DAILY</td>\n",
       "      <td>NaN</td>\n",
       "      <td>NaN</td>\n",
       "      <td>U</td>\n",
       "      <td>NaN</td>\n",
       "      <td>NaN</td>\n",
       "      <td>NaN</td>\n",
       "      <td>20702.0</td>\n",
       "      <td>20</td>\n",
       "      <td>MG</td>\n",
       "      <td>FILM-COATED TABLET</td>\n",
       "      <td>NaN</td>\n",
       "    </tr>\n",
       "    <tr>\n",
       "      <td>2</td>\n",
       "      <td>100046943</td>\n",
       "      <td>10004694</td>\n",
       "      <td>3</td>\n",
       "      <td>SS</td>\n",
       "      <td>ATORVASTATIN CALCIUM.</td>\n",
       "      <td>ATORVASTATIN CALCIUM</td>\n",
       "      <td>1</td>\n",
       "      <td>Oral</td>\n",
       "      <td>20 MG, DAILY</td>\n",
       "      <td>NaN</td>\n",
       "      <td>NaN</td>\n",
       "      <td>U</td>\n",
       "      <td>NaN</td>\n",
       "      <td>NaN</td>\n",
       "      <td>NaN</td>\n",
       "      <td>20702.0</td>\n",
       "      <td>20</td>\n",
       "      <td>MG</td>\n",
       "      <td>FILM-COATED TABLET</td>\n",
       "      <td>NaN</td>\n",
       "    </tr>\n",
       "    <tr>\n",
       "      <td>3</td>\n",
       "      <td>100046943</td>\n",
       "      <td>10004694</td>\n",
       "      <td>4</td>\n",
       "      <td>SS</td>\n",
       "      <td>ATORVASTATIN CALCIUM.</td>\n",
       "      <td>ATORVASTATIN CALCIUM</td>\n",
       "      <td>1</td>\n",
       "      <td>Oral</td>\n",
       "      <td>20 MG, DAILY</td>\n",
       "      <td>NaN</td>\n",
       "      <td>NaN</td>\n",
       "      <td>U</td>\n",
       "      <td>NaN</td>\n",
       "      <td>NaN</td>\n",
       "      <td>NaN</td>\n",
       "      <td>20702.0</td>\n",
       "      <td>20</td>\n",
       "      <td>MG</td>\n",
       "      <td>FILM-COATED TABLET</td>\n",
       "      <td>NaN</td>\n",
       "    </tr>\n",
       "    <tr>\n",
       "      <td>4</td>\n",
       "      <td>100046943</td>\n",
       "      <td>10004694</td>\n",
       "      <td>5</td>\n",
       "      <td>C</td>\n",
       "      <td>SIMVASTATIN.</td>\n",
       "      <td>SIMVASTATIN</td>\n",
       "      <td>1</td>\n",
       "      <td>NaN</td>\n",
       "      <td>40 MG, DAILY</td>\n",
       "      <td>NaN</td>\n",
       "      <td>NaN</td>\n",
       "      <td>NaN</td>\n",
       "      <td>NaN</td>\n",
       "      <td>NaN</td>\n",
       "      <td>NaN</td>\n",
       "      <td>NaN</td>\n",
       "      <td>40</td>\n",
       "      <td>MG</td>\n",
       "      <td>NaN</td>\n",
       "      <td>NaN</td>\n",
       "    </tr>\n",
       "  </tbody>\n",
       "</table>\n",
       "</div>"
      ],
      "text/plain": [
       "   primaryid    caseid  drug_seq role_cod               drugname  \\\n",
       "0  100046943  10004694         1       PS                LIPITOR   \n",
       "1  100046943  10004694         2       SS                LIPITOR   \n",
       "2  100046943  10004694         3       SS  ATORVASTATIN CALCIUM.   \n",
       "3  100046943  10004694         4       SS  ATORVASTATIN CALCIUM.   \n",
       "4  100046943  10004694         5        C           SIMVASTATIN.   \n",
       "\n",
       "                prod_ai  val_vbm route      dose_vbm  cum_dose_chr  \\\n",
       "0  ATORVASTATIN CALCIUM        1  Oral  20 MG, DAILY           NaN   \n",
       "1  ATORVASTATIN CALCIUM        1  Oral  20 MG, DAILY           NaN   \n",
       "2  ATORVASTATIN CALCIUM        1  Oral  20 MG, DAILY           NaN   \n",
       "3  ATORVASTATIN CALCIUM        1  Oral  20 MG, DAILY           NaN   \n",
       "4           SIMVASTATIN        1   NaN  40 MG, DAILY           NaN   \n",
       "\n",
       "  cum_dose_unit dechal rechal lot_num exp_dt  nda_num dose_amt dose_unit  \\\n",
       "0           NaN      U    NaN     NaN    NaN  20702.0       20        MG   \n",
       "1           NaN      U    NaN     NaN    NaN  20702.0       20        MG   \n",
       "2           NaN      U    NaN     NaN    NaN  20702.0       20        MG   \n",
       "3           NaN      U    NaN     NaN    NaN  20702.0       20        MG   \n",
       "4           NaN    NaN    NaN     NaN    NaN      NaN       40        MG   \n",
       "\n",
       "            dose_form dose_freq  \n",
       "0  FILM-COATED TABLET       NaN  \n",
       "1  FILM-COATED TABLET       NaN  \n",
       "2  FILM-COATED TABLET       NaN  \n",
       "3  FILM-COATED TABLET       NaN  \n",
       "4                 NaN       NaN  "
      ]
     },
     "execution_count": 7,
     "metadata": {},
     "output_type": "execute_result"
    }
   ],
   "source": [
    "q32020_df = pd.read_csv(q320_unzipped.open(drug_file), sep=\"$\")\n",
    "\n",
    "q32020_df.head()"
   ]
  },
  {
   "cell_type": "markdown",
   "metadata": {},
   "source": [
    "Now let’s see what medications exist in the data, and identify all instances of phenytoin in the medications, again using Python's `in` statement in an `if` conditional:"
   ]
  },
  {
   "cell_type": "code",
   "execution_count": 8,
   "metadata": {},
   "outputs": [
    {
     "ename": "NameError",
     "evalue": "name 'x' is not defined",
     "output_type": "error",
     "traceback": [
      "\u001b[1;31m---------------------------------------------------------------------------\u001b[0m",
      "\u001b[1;31mNameError\u001b[0m                                 Traceback (most recent call last)",
      "\u001b[1;32m<ipython-input-8-3589bd50f2db>\u001b[0m in \u001b[0;36m<module>\u001b[1;34m\u001b[0m\n\u001b[0;32m      3\u001b[0m \u001b[1;33m\u001b[0m\u001b[0m\n\u001b[0;32m      4\u001b[0m \u001b[1;32mfor\u001b[0m \u001b[0mi\u001b[0m \u001b[1;32min\u001b[0m \u001b[0mmeds\u001b[0m\u001b[1;33m:\u001b[0m\u001b[1;33m\u001b[0m\u001b[1;33m\u001b[0m\u001b[0m\n\u001b[1;32m----> 5\u001b[1;33m     \u001b[0mx\u001b[0m \u001b[1;33m=\u001b[0m \u001b[0mx\u001b[0m\u001b[1;33m+\u001b[0m\u001b[1;36m1\u001b[0m\u001b[1;33m\u001b[0m\u001b[1;33m\u001b[0m\u001b[0m\n\u001b[0m\u001b[0;32m      6\u001b[0m     \u001b[1;32mif\u001b[0m \u001b[1;34m'phenytoin'\u001b[0m \u001b[1;32min\u001b[0m \u001b[0mstr\u001b[0m\u001b[1;33m(\u001b[0m\u001b[0mi\u001b[0m\u001b[1;33m)\u001b[0m \u001b[1;32mor\u001b[0m \u001b[1;34m'PHENYTOIN'\u001b[0m \u001b[1;32min\u001b[0m \u001b[0mstr\u001b[0m\u001b[1;33m(\u001b[0m\u001b[0mi\u001b[0m\u001b[1;33m)\u001b[0m\u001b[1;33m:\u001b[0m\u001b[1;33m\u001b[0m\u001b[1;33m\u001b[0m\u001b[0m\n\u001b[0;32m      7\u001b[0m         \u001b[0mptn_meds\u001b[0m\u001b[1;33m.\u001b[0m\u001b[0mappend\u001b[0m\u001b[1;33m(\u001b[0m\u001b[0mi\u001b[0m\u001b[1;33m)\u001b[0m\u001b[1;33m\u001b[0m\u001b[1;33m\u001b[0m\u001b[0m\n",
      "\u001b[1;31mNameError\u001b[0m: name 'x' is not defined"
     ]
    }
   ],
   "source": [
    "meds = set(q32020_df['prod_ai']) # Identifying our list of unique medications in the data set \n",
    "ptn_meds = [] # initializing empty list \n",
    "\n",
    "for i in meds:\n",
    "    if 'phenytoin' in str(i) or 'PHENYTOIN' in str(i):\n",
    "        ptn_meds.append(i)\n",
    "\n",
    "ptn_meds = np.array(ptn_meds) # converting to numpy array, personal preference, not essential\n",
    "ptn_meds"
   ]
  },
  {
   "cell_type": "markdown",
   "metadata": {},
   "source": [
    "And lastly let’s filter the full imported data set using our identifying adverse events related to phenytoin."
   ]
  },
  {
   "cell_type": "code",
   "execution_count": null,
   "metadata": {},
   "outputs": [],
   "source": [
    "q32020_phenytoin = q32020_df[q32020_df['prod_ai'].isin(ptn_meds)]\n",
    "q32020_phenytoin.shape"
   ]
  },
  {
   "cell_type": "code",
   "execution_count": null,
   "metadata": {},
   "outputs": [],
   "source": [
    "q32020_phenytoin.head()"
   ]
  },
  {
   "cell_type": "markdown",
   "metadata": {},
   "source": [
    "### (3) Importing All FY2019 Data\n",
    "We walked through the process of importing a singe quarter of data. FY2019 will include four years of data that will follow an analgous process, so let’s create a function to reduce the redundancy of our code. The below function requires only the file path of the quarter’s zipped folder, and will complete the steps above of importing the full folder, unzipping the data cotents, identifying the DRUG file, and specifically filtering on phenytoin. The chunk also compares teh results of the function to our above manual input, to demonstrate the function and manual import resulting in the same imported data!"
   ]
  },
  {
   "cell_type": "code",
   "execution_count": null,
   "metadata": {},
   "outputs": [],
   "source": [
    "def faers_phenytoin_extract(url):\n",
    "    zip_files = requests.get(url)\n",
    "    unzip_files = zipfile.ZipFile(io.BytesIO(zip_files.content))\n",
    "\n",
    "    file_dir = unzip_files.namelist()\n",
    "    \n",
    "    for i in file_dir:\n",
    "        if 'DRUG' in i and 'txt' in i:\n",
    "            drug_file = i\n",
    "\n",
    "    drug_df = pd.read_csv(unzip_files.open(drug_file), sep=\"$\")\n",
    "\n",
    "    meds = set(drug_df['prod_ai']) # Identifying our list of unique medications in the data set \n",
    "    ptn_meds = [] # initializing empty list \n",
    "\n",
    "    for i in meds:\n",
    "        if 'phenytoin' in str(i) or 'PHENYTOIN' in str(i):\n",
    "            ptn_meds.append(i)\n",
    "\n",
    "    ptn_meds = np.array(ptn_meds)\n",
    "\n",
    "    out_df = drug_df[drug_df['prod_ai'].isin(ptn_meds)]\n",
    "    \n",
    "    return(out_df)\n",
    "\n"
   ]
  },
  {
   "cell_type": "code",
   "execution_count": null,
   "metadata": {},
   "outputs": [],
   "source": [
    "# so let's compare to the Q32020 data we pulled manually previously \n",
    "q3_20_df =  faers_phenytoin_extract(\"https://fis.fda.gov/content/Exports/faers_ascii_2020Q3.zip\")\n",
    "q3_20_df.equals(q32020_phenytoin)"
   ]
  },
  {
   "cell_type": "code",
   "execution_count": null,
   "metadata": {},
   "outputs": [],
   "source": [
    "q2_20_df = faers_phenytoin_extract(\"https://fis.fda.gov/content/Exports/faers_ascii_2020Q2.zip\")\n",
    "q1_20_df = faers_phenytoin_extract(\"https://fis.fda.gov/content/Exports/faers_ascii_2020Q1.zip\")\n",
    "q4_19_df = faers_phenytoin_extract(\"https://fis.fda.gov/content/Exports/faers_ascii_2019Q4.zip\")"
   ]
  },
  {
   "cell_type": "code",
   "execution_count": null,
   "metadata": {},
   "outputs": [],
   "source": [
    "assert q3_20_df.columns.equals(q2_20_df.columns)\n",
    "assert q3_20_df.columns.equals(q4_19_df.columns)\n",
    "assert q3_20_df.columns.equals(q1_20_df.columns)"
   ]
  },
  {
   "cell_type": "markdown",
   "metadata": {},
   "source": [
    "Let’s then append the data frames together, and look at our final data"
   ]
  },
  {
   "cell_type": "code",
   "execution_count": null,
   "metadata": {},
   "outputs": [],
   "source": [
    "display(q3_20_df.shape)\n",
    "display(q2_20_df.shape)\n",
    "display(q1_20_df.shape)\n",
    "display(q4_19_df.shape)"
   ]
  },
  {
   "cell_type": "code",
   "execution_count": null,
   "metadata": {},
   "outputs": [],
   "source": [
    "fy19_phenytoin = pd.concat([q3_20_df,\n",
    "                            q2_20_df,\n",
    "                            q1_20_df,\n",
    "                            q4_19_df])\n",
    "\n",
    "fy19_phenytoin.shape"
   ]
  },
  {
   "cell_type": "code",
   "execution_count": null,
   "metadata": {},
   "outputs": [],
   "source": [
    "fy19_phenytoin.head()"
   ]
  },
  {
   "cell_type": "markdown",
   "metadata": {},
   "source": [
    "### (4) Exporting aggregated data"
   ]
  },
  {
   "cell_type": "code",
   "execution_count": null,
   "metadata": {},
   "outputs": [],
   "source": [
    "fy19_phenytoin.to_csv('FY2019_PhenytoinAERS_Python.csv', index = False)"
   ]
  },
  {
   "cell_type": "code",
   "execution_count": 15,
   "metadata": {},
   "outputs": [],
   "source": [
    "pd.DataFrame({'a':[1,2,3],\n",
    "             'b':[4,5,6]}).to_excel('test.xlsx', index=False)\n",
    "pd.DataFrame({'a':[1,2,3],\n",
    "             'b':[4,5,6]}).to_excel('test_indx.xlsx', index=True)"
   ]
  },
  {
   "cell_type": "code",
   "execution_count": 17,
   "metadata": {},
   "outputs": [
    {
     "name": "stdout",
     "output_type": "stream",
     "text": [
      "Solution script executing...\n",
      "Python submission file found! Checking solution...\n",
      "R submission file found! Checking solution...\n",
      "Suubmission file found wthout \"_Python\" or \"_R\" suffix. Checking solution...\n"
     ]
    }
   ],
   "source": [
    "exec(open(r'FAERS_SolutionCheck.py').read())"
   ]
  },
  {
   "cell_type": "code",
   "execution_count": null,
   "metadata": {},
   "outputs": [],
   "source": []
  }
 ],
 "metadata": {
  "kernelspec": {
   "display_name": "Python 3",
   "language": "python",
   "name": "python3"
  },
  "language_info": {
   "codemirror_mode": {
    "name": "ipython",
    "version": 3
   },
   "file_extension": ".py",
   "mimetype": "text/x-python",
   "name": "python",
   "nbconvert_exporter": "python",
   "pygments_lexer": "ipython3",
   "version": "3.7.4"
  }
 },
 "nbformat": 4,
 "nbformat_minor": 2
}
